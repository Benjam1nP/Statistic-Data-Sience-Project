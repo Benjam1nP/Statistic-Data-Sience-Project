{
 "cells": [
  {
   "cell_type": "markdown",
   "id": "c3ae9f8b",
   "metadata": {},
   "source": [
    "# 0. Überblick und Setup\n",
    "In diesem Notebook gehen wir auf das Vorlesungskapitel 2 mit den Inhalten **Lage + Streuung + Verteilungsform** ein."
   ]
  },
  {
   "cell_type": "code",
   "execution_count": 8,
   "id": "4913ddd5",
   "metadata": {},
   "outputs": [
    {
     "name": "stdout",
     "output_type": "stream",
     "text": [
      "================================================================================\n",
      "Datensatz geladen: 999,997 Zeilen, 17 Spalten\n",
      "--------------------------------------------------------------------------------\n",
      "Erste Zeilen: \n",
      "   tpep_pickup_datetime tpep_dropoff_datetime  passenger_count  trip_distance  \\\n",
      "0  2023-02-06 18:31:28   2023-02-06 18:41:28              1.0            2.8   \n",
      "1  2023-01-13 12:22:41   2023-01-13 12:54:42              1.0            0.0   \n",
      "2  2023-01-24 12:53:51   2023-01-24 13:06:09              5.0            2.3   \n",
      "\n",
      "   PULocationID  DOLocationID  payment_type  fare_amount  extra  tip_amount  \\\n",
      "0           162           113             1         11.4    2.5         2.0   \n",
      "1            76            61             1         22.0    0.0         0.0   \n",
      "2           142            48             2         12.1    0.0         0.0   \n",
      "\n",
      "   tolls_amount  improvement_surcharge  total_amount  congestion_surcharge  \\\n",
      "0           0.0                    1.0          19.9                   2.5   \n",
      "1           0.0                    1.0          23.5                   0.0   \n",
      "2           0.0                    1.0          16.1                   2.5   \n",
      "\n",
      "   airport_fee  trip_duration  average_speed  \n",
      "0          0.0           10.0           27.4  \n",
      "1          0.0           32.0            0.0  \n",
      "2          0.0           12.3           18.1  \n",
      "--------------------------------------------------------------------------------\n",
      "       passenger_count  trip_distance   PULocationID   DOLocationID  \\\n",
      "count    965589.000000  999997.000000  999997.000000  999997.000000   \n",
      "mean          1.371431       6.379764     165.114067     164.009744   \n",
      "std           0.894295     218.072658      63.987243      69.768903   \n",
      "min           0.000000       0.000000       1.000000       1.000000   \n",
      "25%           1.000000       1.700000     132.000000     114.000000   \n",
      "50%           1.000000       2.900000     162.000000     162.000000   \n",
      "75%           1.000000       5.500000     234.000000     234.000000   \n",
      "max           8.000000  148560.100000     265.000000     265.000000   \n",
      "\n",
      "        payment_type    fare_amount          extra     tip_amount  \\\n",
      "count  999997.000000  999997.000000  999997.000000  999997.000000   \n",
      "mean        1.185203      19.461998       1.553423       3.514121   \n",
      "std         0.557130      19.002883       1.841943       4.122940   \n",
      "min         0.000000    -900.000000      -7.500000     -70.000000   \n",
      "25%         1.000000       9.300000       0.000000       1.000000   \n",
      "50%         1.000000      13.500000       1.000000       2.800000   \n",
      "75%         1.000000      21.900000       2.500000       4.400000   \n",
      "max         4.000000    2449.500000      14.250000     700.000000   \n",
      "\n",
      "        tolls_amount  improvement_surcharge   total_amount  \\\n",
      "count  999997.000000          999997.000000  999997.000000   \n",
      "mean        0.585813               0.979089      28.386058   \n",
      "std         2.185004               0.200862      23.687311   \n",
      "min       -36.050000              -1.000000    -901.000000   \n",
      "25%         0.000000               1.000000      15.950000   \n",
      "50%         0.000000               1.000000      21.000000   \n",
      "75%         0.000000               1.000000      30.720000   \n",
      "max        85.000000               1.000000    2451.000000   \n",
      "\n",
      "       congestion_surcharge    airport_fee  trip_duration  average_speed  \n",
      "count         965589.000000  965589.000000  999997.000000       999677.0  \n",
      "mean               2.263851       0.139958      17.447879            inf  \n",
      "std                0.799050       0.468547      40.936206            NaN  \n",
      "min               -2.500000      -1.750000     -52.200000      -104894.0  \n",
      "25%                2.500000       0.000000       7.600000           18.2  \n",
      "50%                2.500000       0.000000      12.600000           24.8  \n",
      "75%                2.500000       0.000000      20.700000           34.5  \n",
      "max                2.500000       1.750000    3713.800000            inf  \n",
      "--------------------------------------------------------------------------------\n",
      "<class 'pandas.core.frame.DataFrame'>\n",
      "RangeIndex: 999997 entries, 0 to 999996\n",
      "Data columns (total 17 columns):\n",
      " #   Column                 Non-Null Count   Dtype  \n",
      "---  ------                 --------------   -----  \n",
      " 0   tpep_pickup_datetime   999997 non-null  object \n",
      " 1   tpep_dropoff_datetime  999997 non-null  object \n",
      " 2   passenger_count        965589 non-null  float64\n",
      " 3   trip_distance          999997 non-null  float64\n",
      " 4   PULocationID           999997 non-null  int64  \n",
      " 5   DOLocationID           999997 non-null  int64  \n",
      " 6   payment_type           999997 non-null  int64  \n",
      " 7   fare_amount            999997 non-null  float64\n",
      " 8   extra                  999997 non-null  float64\n",
      " 9   tip_amount             999997 non-null  float64\n",
      " 10  tolls_amount           999997 non-null  float64\n",
      " 11  improvement_surcharge  999997 non-null  float64\n",
      " 12  total_amount           999997 non-null  float64\n",
      " 13  congestion_surcharge   965589 non-null  float64\n",
      " 14  airport_fee            965589 non-null  float64\n",
      " 15  trip_duration          999997 non-null  float64\n",
      " 16  average_speed          999677 non-null  float64\n",
      "dtypes: float64(12), int64(3), object(2)\n",
      "memory usage: 129.7+ MB\n",
      "None\n",
      "================================================================================\n"
     ]
    }
   ],
   "source": [
    "import sys\n",
    "from pathlib import Path\n",
    "\n",
    "ROOT = Path.cwd().parent          # eine Ebene über notebooks/\n",
    "if str(ROOT) not in sys.path:\n",
    "    sys.path.insert(0, str(ROOT))\n",
    "\n",
    "import pandas as pd\n",
    "import numpy as np\n",
    "import seaborn as sns\n",
    "import matplotlib.pyplot as plt\n",
    "import sys, os\n",
    "from src.utils_stats import iqr, mad, trimmed_mean, fd_bins, tukey_fences, modified_z_scores, ecdf\n",
    "from src.utils_plots import hist_kde, box_violin, plot_ecdf, hist_with_fences, plot_qq\n",
    "\n",
    "\n",
    "PATH = \"../data/Taxi_final_1M.csv\"\n",
    "df = pd.read_csv(PATH)\n",
    "\n",
    "print(80*\"=\")\n",
    "print(f\"Datensatz geladen: {df.shape[0]:,} Zeilen, {df.shape[1]} Spalten\")\n",
    "print(80*\"-\")\n",
    "print(\"Erste Zeilen:\", \"\\n\", df.head(3))\n",
    "print(80*\"-\")\n",
    "print(df.describe())\n",
    "print(80*\"-\")\n",
    "print(df.info())\n",
    "print(80*\"=\")"
   ]
  },
  {
   "cell_type": "markdown",
   "id": "48e42d5f",
   "metadata": {},
   "source": [
    "# 1. Lagekennzahlen"
   ]
  },
  {
   "cell_type": "code",
   "execution_count": null,
   "id": "100217d7",
   "metadata": {},
   "outputs": [],
   "source": [
    "vars_num = [\"trip_distance\",\"trip_duration\",\"average_speed\",\"fare_amount\",\"tip_amount\",\"total_amount\"]\n",
    "\n",
    "def location_row(s):\n",
    "    s = s.dropna()\n",
    "    return pd.Series({\n",
    "        \"n\": s.size,\n",
    "        \"Median\": s.median(),\n",
    "        \"Mean\": s.mean(),\n",
    "        \"TrimmedMean(10%)\": trimmed_mean(s, 0.10)\n",
    "    })\n",
    "\n",
    "location_summary = pd.concat([location_row(df[v]).rename(v) for v in vars_num], axis=1).T\n",
    "display(location_summary.style.format(\"{:,.2f}\"))"
   ]
  },
  {
   "cell_type": "markdown",
   "id": "9110d978",
   "metadata": {},
   "source": [
    "# 2. Streuungskennzahlen"
   ]
  },
  {
   "cell_type": "code",
   "execution_count": null,
   "id": "a95ffd4a",
   "metadata": {},
   "outputs": [],
   "source": [
    "def spread_summary(s):\n",
    "    s = s.dropna()\n",
    "    q1, q3 = s.quantile([.25, .75])\n",
    "    IQR = q3 - q1\n",
    "    MAD = (s - s.median()).abs().median()\n",
    "    return pd.Series({\n",
    "        \"IQR\": IQR,\n",
    "        \"MAD\": MAD,\n",
    "        \"Var\": np.var(s, ddof=1),\n",
    "        \"SD\": np.std(s, ddof=1)\n",
    "    })\n",
    "\n",
    "spread_tbl = pd.concat([spread_summary(df[v]).rename(v) for v in vars_num], axis=1).T\n",
    "display(spread_tbl)"
   ]
  },
  {
   "cell_type": "markdown",
   "id": "eeef9aec",
   "metadata": {},
   "source": [
    "# 3. Ausreißer erkennen (Diagnose)"
   ]
  },
  {
   "cell_type": "code",
   "execution_count": null,
   "id": "2c7fddcb",
   "metadata": {},
   "outputs": [],
   "source": [
    "def tukey_fences(s, k=1.5):\n",
    "    s = s.dropna()\n",
    "    q1, q3 = s.quantile([.25,.75])\n",
    "    I = q3 - q1\n",
    "    return q1 - k * I, q3 + k * I\n",
    "\n",
    "def modified_z(s):\n",
    "    s = s.dropna()\n",
    "    MAD = (s - s.median()).abs().median()\n",
    "    if MAD == 0: return pd.Series(0.0, index=s.index)\n",
    "    return 0.6745 * (s - s.median()) / MAD\n",
    "\n",
    "rows = []\n",
    "for v in vars_num:\n",
    "    s = df[v].dropna()\n",
    "    lo, hi = tukey_fences(s, 1.5)\n",
    "    tukey_mask = (s < lo) | (s > hi)\n",
    "    mz = modified_z(s).abs() > 3.5\n",
    "\n",
    "    # Flags im DF (für Kap. 4)\n",
    "    df[f\"{v}__out_tukey\"] = False\n",
    "    df.loc[s.index, f\"{v}__out_tukey\"] = tukey_mask\n",
    "    df[f\"{v}__out_modz\"]  = False\n",
    "    df.loc[s.index, f\"{v}__out_modz\"]  = mz\n",
    "\n",
    "    rows.append([v, s.size, int(tukey_mask.sum()), int(mz.sum()), lo, hi])\n",
    "\n",
    "outlier_df = pd.DataFrame(rows, columns=[\"var\",\"n\",\"Tukey_1.5IQR\",\"modZ>|3.5|\",\"lo\",\"hi\"])\n",
    "display(outlier_df.style.format({\"lo\":\"{:.2f}\",\"hi\":\"{:.2f}\"}))"
   ]
  },
  {
   "cell_type": "markdown",
   "id": "e4678399",
   "metadata": {},
   "source": [
    "# 4. Verteilungsform (Histogramm + KDE)"
   ]
  },
  {
   "cell_type": "code",
   "execution_count": 9,
   "id": "03decde8",
   "metadata": {},
   "outputs": [
    {
     "ename": "KeyboardInterrupt",
     "evalue": "",
     "output_type": "error",
     "traceback": [
      "\u001b[0;31m---------------------------------------------------------------------------\u001b[0m",
      "\u001b[0;31mKeyboardInterrupt\u001b[0m                         Traceback (most recent call last)",
      "Cell \u001b[0;32mIn[9], line 7\u001b[0m\n\u001b[1;32m      1\u001b[0m \u001b[38;5;28;01mfor\u001b[39;00m v,u \u001b[38;5;129;01min\u001b[39;00m [(\u001b[38;5;124m\"\u001b[39m\u001b[38;5;124mtrip_distance\u001b[39m\u001b[38;5;124m\"\u001b[39m,\u001b[38;5;124m\"\u001b[39m\u001b[38;5;124mmiles\u001b[39m\u001b[38;5;124m\"\u001b[39m),\n\u001b[1;32m      2\u001b[0m             (\u001b[38;5;124m\"\u001b[39m\u001b[38;5;124mtrip_duration\u001b[39m\u001b[38;5;124m\"\u001b[39m,\u001b[38;5;124m\"\u001b[39m\u001b[38;5;124mmin\u001b[39m\u001b[38;5;124m\"\u001b[39m),\n\u001b[1;32m      3\u001b[0m             (\u001b[38;5;124m\"\u001b[39m\u001b[38;5;124maverage_speed\u001b[39m\u001b[38;5;124m\"\u001b[39m,\u001b[38;5;124m\"\u001b[39m\u001b[38;5;124mmph\u001b[39m\u001b[38;5;124m\"\u001b[39m),\n\u001b[1;32m      4\u001b[0m             (\u001b[38;5;124m\"\u001b[39m\u001b[38;5;124mfare_amount\u001b[39m\u001b[38;5;124m\"\u001b[39m,\u001b[38;5;124m\"\u001b[39m\u001b[38;5;124mUSD\u001b[39m\u001b[38;5;124m\"\u001b[39m),\n\u001b[1;32m      5\u001b[0m             (\u001b[38;5;124m\"\u001b[39m\u001b[38;5;124mtip_amount\u001b[39m\u001b[38;5;124m\"\u001b[39m,\u001b[38;5;124m\"\u001b[39m\u001b[38;5;124mUSD\u001b[39m\u001b[38;5;124m\"\u001b[39m),\n\u001b[1;32m      6\u001b[0m             (\u001b[38;5;124m\"\u001b[39m\u001b[38;5;124mtotal_amount\u001b[39m\u001b[38;5;124m\"\u001b[39m,\u001b[38;5;124m\"\u001b[39m\u001b[38;5;124mUSD\u001b[39m\u001b[38;5;124m\"\u001b[39m)]:\n\u001b[0;32m----> 7\u001b[0m     hist_kde(df[v], title\u001b[38;5;241m=\u001b[39mv, unit\u001b[38;5;241m=\u001b[39mu, bw_adjust_list\u001b[38;5;241m=\u001b[39m(\u001b[38;5;241m0.7\u001b[39m, \u001b[38;5;241m1.0\u001b[39m, \u001b[38;5;241m1.8\u001b[39m))\n\u001b[1;32m      8\u001b[0m     box_violin(df[v], title\u001b[38;5;241m=\u001b[39mv)\n\u001b[1;32m      9\u001b[0m     plot_ecdf(df[v], title\u001b[38;5;241m=\u001b[39mv, unit\u001b[38;5;241m=\u001b[39mu)\n",
      "File \u001b[0;32m~/Library/CloudStorage/OneDrive-UniversitaetSt.Gallen/3. Semester/Statistics for Data Science/Statistic-Data-Sience-Project/src/utils_plots.py:21\u001b[0m, in \u001b[0;36mhist_kde\u001b[0;34m(s, title, xlabel, ylabel, unit, bw_adjust_list, save)\u001b[0m\n\u001b[1;32m     19\u001b[0m bins \u001b[38;5;241m=\u001b[39m fd_bins(s)\n\u001b[1;32m     20\u001b[0m plt\u001b[38;5;241m.\u001b[39mfigure(figsize\u001b[38;5;241m=\u001b[39m(\u001b[38;5;241m7.2\u001b[39m, \u001b[38;5;241m4.6\u001b[39m))\n\u001b[0;32m---> 21\u001b[0m sns\u001b[38;5;241m.\u001b[39mhistplot(s, bins\u001b[38;5;241m=\u001b[39mbins, stat\u001b[38;5;241m=\u001b[39m\u001b[38;5;124m\"\u001b[39m\u001b[38;5;124mdensity\u001b[39m\u001b[38;5;124m\"\u001b[39m, edgecolor\u001b[38;5;241m=\u001b[39m\u001b[38;5;124m\"\u001b[39m\u001b[38;5;124mwhite\u001b[39m\u001b[38;5;124m\"\u001b[39m, alpha\u001b[38;5;241m=\u001b[39m\u001b[38;5;241m0.35\u001b[39m, label\u001b[38;5;241m=\u001b[39m\u001b[38;5;124mf\u001b[39m\u001b[38;5;124m\"\u001b[39m\u001b[38;5;124mHist (FD=\u001b[39m\u001b[38;5;132;01m{\u001b[39;00mbins\u001b[38;5;132;01m}\u001b[39;00m\u001b[38;5;124m)\u001b[39m\u001b[38;5;124m\"\u001b[39m)\n\u001b[1;32m     22\u001b[0m \u001b[38;5;28;01mfor\u001b[39;00m bw \u001b[38;5;129;01min\u001b[39;00m bw_adjust_list:\n\u001b[1;32m     23\u001b[0m     sns\u001b[38;5;241m.\u001b[39mkdeplot(s, bw_adjust\u001b[38;5;241m=\u001b[39mbw, linewidth\u001b[38;5;241m=\u001b[39m\u001b[38;5;241m2\u001b[39m, label\u001b[38;5;241m=\u001b[39m\u001b[38;5;124mf\u001b[39m\u001b[38;5;124m\"\u001b[39m\u001b[38;5;124mKDE bw=\u001b[39m\u001b[38;5;132;01m{\u001b[39;00mbw\u001b[38;5;132;01m}\u001b[39;00m\u001b[38;5;124m\"\u001b[39m)\n",
      "File \u001b[0;32m/opt/anaconda3/lib/python3.12/site-packages/seaborn/distributions.py:1416\u001b[0m, in \u001b[0;36mhistplot\u001b[0;34m(data, x, y, hue, weights, stat, bins, binwidth, binrange, discrete, cumulative, common_bins, common_norm, multiple, element, fill, shrink, kde, kde_kws, line_kws, thresh, pthresh, pmax, cbar, cbar_ax, cbar_kws, palette, hue_order, hue_norm, color, log_scale, legend, ax, **kwargs)\u001b[0m\n\u001b[1;32m   1405\u001b[0m estimate_kws \u001b[38;5;241m=\u001b[39m \u001b[38;5;28mdict\u001b[39m(\n\u001b[1;32m   1406\u001b[0m     stat\u001b[38;5;241m=\u001b[39mstat,\n\u001b[1;32m   1407\u001b[0m     bins\u001b[38;5;241m=\u001b[39mbins,\n\u001b[0;32m   (...)\u001b[0m\n\u001b[1;32m   1411\u001b[0m     cumulative\u001b[38;5;241m=\u001b[39mcumulative,\n\u001b[1;32m   1412\u001b[0m )\n\u001b[1;32m   1414\u001b[0m \u001b[38;5;28;01mif\u001b[39;00m p\u001b[38;5;241m.\u001b[39munivariate:\n\u001b[0;32m-> 1416\u001b[0m     p\u001b[38;5;241m.\u001b[39mplot_univariate_histogram(\n\u001b[1;32m   1417\u001b[0m         multiple\u001b[38;5;241m=\u001b[39mmultiple,\n\u001b[1;32m   1418\u001b[0m         element\u001b[38;5;241m=\u001b[39melement,\n\u001b[1;32m   1419\u001b[0m         fill\u001b[38;5;241m=\u001b[39mfill,\n\u001b[1;32m   1420\u001b[0m         shrink\u001b[38;5;241m=\u001b[39mshrink,\n\u001b[1;32m   1421\u001b[0m         common_norm\u001b[38;5;241m=\u001b[39mcommon_norm,\n\u001b[1;32m   1422\u001b[0m         common_bins\u001b[38;5;241m=\u001b[39mcommon_bins,\n\u001b[1;32m   1423\u001b[0m         kde\u001b[38;5;241m=\u001b[39mkde,\n\u001b[1;32m   1424\u001b[0m         kde_kws\u001b[38;5;241m=\u001b[39mkde_kws,\n\u001b[1;32m   1425\u001b[0m         color\u001b[38;5;241m=\u001b[39mcolor,\n\u001b[1;32m   1426\u001b[0m         legend\u001b[38;5;241m=\u001b[39mlegend,\n\u001b[1;32m   1427\u001b[0m         estimate_kws\u001b[38;5;241m=\u001b[39mestimate_kws,\n\u001b[1;32m   1428\u001b[0m         line_kws\u001b[38;5;241m=\u001b[39mline_kws,\n\u001b[1;32m   1429\u001b[0m         \u001b[38;5;241m*\u001b[39m\u001b[38;5;241m*\u001b[39mkwargs,\n\u001b[1;32m   1430\u001b[0m     )\n\u001b[1;32m   1432\u001b[0m \u001b[38;5;28;01melse\u001b[39;00m:\n\u001b[1;32m   1434\u001b[0m     p\u001b[38;5;241m.\u001b[39mplot_bivariate_histogram(\n\u001b[1;32m   1435\u001b[0m         common_bins\u001b[38;5;241m=\u001b[39mcommon_bins,\n\u001b[1;32m   1436\u001b[0m         common_norm\u001b[38;5;241m=\u001b[39mcommon_norm,\n\u001b[0;32m   (...)\u001b[0m\n\u001b[1;32m   1446\u001b[0m         \u001b[38;5;241m*\u001b[39m\u001b[38;5;241m*\u001b[39mkwargs,\n\u001b[1;32m   1447\u001b[0m     )\n",
      "File \u001b[0;32m/opt/anaconda3/lib/python3.12/site-packages/seaborn/distributions.py:571\u001b[0m, in \u001b[0;36m_DistributionPlotter.plot_univariate_histogram\u001b[0;34m(self, multiple, element, fill, common_norm, common_bins, shrink, kde, kde_kws, color, legend, line_kws, estimate_kws, **plot_kws)\u001b[0m\n\u001b[1;32m    566\u001b[0m \u001b[38;5;28;01mif\u001b[39;00m element \u001b[38;5;241m==\u001b[39m \u001b[38;5;124m\"\u001b[39m\u001b[38;5;124mbars\u001b[39m\u001b[38;5;124m\"\u001b[39m:\n\u001b[1;32m    567\u001b[0m \n\u001b[1;32m    568\u001b[0m     \u001b[38;5;66;03m# Use matplotlib bar plotting\u001b[39;00m\n\u001b[1;32m    570\u001b[0m     plot_func \u001b[38;5;241m=\u001b[39m ax\u001b[38;5;241m.\u001b[39mbar \u001b[38;5;28;01mif\u001b[39;00m \u001b[38;5;28mself\u001b[39m\u001b[38;5;241m.\u001b[39mdata_variable \u001b[38;5;241m==\u001b[39m \u001b[38;5;124m\"\u001b[39m\u001b[38;5;124mx\u001b[39m\u001b[38;5;124m\"\u001b[39m \u001b[38;5;28;01melse\u001b[39;00m ax\u001b[38;5;241m.\u001b[39mbarh\n\u001b[0;32m--> 571\u001b[0m     artists \u001b[38;5;241m=\u001b[39m plot_func(\n\u001b[1;32m    572\u001b[0m         hist[\u001b[38;5;124m\"\u001b[39m\u001b[38;5;124medges\u001b[39m\u001b[38;5;124m\"\u001b[39m],\n\u001b[1;32m    573\u001b[0m         hist[\u001b[38;5;124m\"\u001b[39m\u001b[38;5;124mheights\u001b[39m\u001b[38;5;124m\"\u001b[39m] \u001b[38;5;241m-\u001b[39m bottom,\n\u001b[1;32m    574\u001b[0m         hist[\u001b[38;5;124m\"\u001b[39m\u001b[38;5;124mwidths\u001b[39m\u001b[38;5;124m\"\u001b[39m],\n\u001b[1;32m    575\u001b[0m         bottom,\n\u001b[1;32m    576\u001b[0m         align\u001b[38;5;241m=\u001b[39m\u001b[38;5;124m\"\u001b[39m\u001b[38;5;124medge\u001b[39m\u001b[38;5;124m\"\u001b[39m,\n\u001b[1;32m    577\u001b[0m         \u001b[38;5;241m*\u001b[39m\u001b[38;5;241m*\u001b[39martist_kws,\n\u001b[1;32m    578\u001b[0m     )\n\u001b[1;32m    580\u001b[0m     \u001b[38;5;28;01mfor\u001b[39;00m bar \u001b[38;5;129;01min\u001b[39;00m artists:\n\u001b[1;32m    581\u001b[0m         \u001b[38;5;28;01mif\u001b[39;00m \u001b[38;5;28mself\u001b[39m\u001b[38;5;241m.\u001b[39mdata_variable \u001b[38;5;241m==\u001b[39m \u001b[38;5;124m\"\u001b[39m\u001b[38;5;124mx\u001b[39m\u001b[38;5;124m\"\u001b[39m:\n",
      "File \u001b[0;32m/opt/anaconda3/lib/python3.12/site-packages/matplotlib/__init__.py:1524\u001b[0m, in \u001b[0;36m_preprocess_data.<locals>.inner\u001b[0;34m(ax, data, *args, **kwargs)\u001b[0m\n\u001b[1;32m   1521\u001b[0m \u001b[38;5;129m@functools\u001b[39m\u001b[38;5;241m.\u001b[39mwraps(func)\n\u001b[1;32m   1522\u001b[0m \u001b[38;5;28;01mdef\u001b[39;00m\u001b[38;5;250m \u001b[39m\u001b[38;5;21minner\u001b[39m(ax, \u001b[38;5;241m*\u001b[39margs, data\u001b[38;5;241m=\u001b[39m\u001b[38;5;28;01mNone\u001b[39;00m, \u001b[38;5;241m*\u001b[39m\u001b[38;5;241m*\u001b[39mkwargs):\n\u001b[1;32m   1523\u001b[0m     \u001b[38;5;28;01mif\u001b[39;00m data \u001b[38;5;129;01mis\u001b[39;00m \u001b[38;5;28;01mNone\u001b[39;00m:\n\u001b[0;32m-> 1524\u001b[0m         \u001b[38;5;28;01mreturn\u001b[39;00m func(\n\u001b[1;32m   1525\u001b[0m             ax,\n\u001b[1;32m   1526\u001b[0m             \u001b[38;5;241m*\u001b[39m\u001b[38;5;28mmap\u001b[39m(cbook\u001b[38;5;241m.\u001b[39msanitize_sequence, args),\n\u001b[1;32m   1527\u001b[0m             \u001b[38;5;241m*\u001b[39m\u001b[38;5;241m*\u001b[39m{k: cbook\u001b[38;5;241m.\u001b[39msanitize_sequence(v) \u001b[38;5;28;01mfor\u001b[39;00m k, v \u001b[38;5;129;01min\u001b[39;00m kwargs\u001b[38;5;241m.\u001b[39mitems()})\n\u001b[1;32m   1529\u001b[0m     bound \u001b[38;5;241m=\u001b[39m new_sig\u001b[38;5;241m.\u001b[39mbind(ax, \u001b[38;5;241m*\u001b[39margs, \u001b[38;5;241m*\u001b[39m\u001b[38;5;241m*\u001b[39mkwargs)\n\u001b[1;32m   1530\u001b[0m     auto_label \u001b[38;5;241m=\u001b[39m (bound\u001b[38;5;241m.\u001b[39marguments\u001b[38;5;241m.\u001b[39mget(label_namer)\n\u001b[1;32m   1531\u001b[0m                   \u001b[38;5;129;01mor\u001b[39;00m bound\u001b[38;5;241m.\u001b[39mkwargs\u001b[38;5;241m.\u001b[39mget(label_namer))\n",
      "File \u001b[0;32m/opt/anaconda3/lib/python3.12/site-packages/matplotlib/axes/_axes.py:2646\u001b[0m, in \u001b[0;36mAxes.bar\u001b[0;34m(self, x, height, width, bottom, align, **kwargs)\u001b[0m\n\u001b[1;32m   2643\u001b[0m args \u001b[38;5;241m=\u001b[39m \u001b[38;5;28mzip\u001b[39m(left, bottom, width, height, facecolor, edgecolor, linewidth,\n\u001b[1;32m   2644\u001b[0m            hatch, patch_labels)\n\u001b[1;32m   2645\u001b[0m \u001b[38;5;28;01mfor\u001b[39;00m l, b, w, h, c, e, lw, htch, lbl \u001b[38;5;129;01min\u001b[39;00m args:\n\u001b[0;32m-> 2646\u001b[0m     r \u001b[38;5;241m=\u001b[39m mpatches\u001b[38;5;241m.\u001b[39mRectangle(\n\u001b[1;32m   2647\u001b[0m         xy\u001b[38;5;241m=\u001b[39m(l, b), width\u001b[38;5;241m=\u001b[39mw, height\u001b[38;5;241m=\u001b[39mh,\n\u001b[1;32m   2648\u001b[0m         facecolor\u001b[38;5;241m=\u001b[39mc,\n\u001b[1;32m   2649\u001b[0m         edgecolor\u001b[38;5;241m=\u001b[39me,\n\u001b[1;32m   2650\u001b[0m         linewidth\u001b[38;5;241m=\u001b[39mlw,\n\u001b[1;32m   2651\u001b[0m         label\u001b[38;5;241m=\u001b[39mlbl,\n\u001b[1;32m   2652\u001b[0m         hatch\u001b[38;5;241m=\u001b[39mhtch,\n\u001b[1;32m   2653\u001b[0m         )\n\u001b[1;32m   2654\u001b[0m     r\u001b[38;5;241m.\u001b[39m_internal_update(kwargs)\n\u001b[1;32m   2655\u001b[0m     r\u001b[38;5;241m.\u001b[39mget_path()\u001b[38;5;241m.\u001b[39m_interpolation_steps \u001b[38;5;241m=\u001b[39m \u001b[38;5;241m100\u001b[39m\n",
      "File \u001b[0;32m/opt/anaconda3/lib/python3.12/site-packages/matplotlib/patches.py:772\u001b[0m, in \u001b[0;36mRectangle.__init__\u001b[0;34m(self, xy, width, height, angle, rotation_point, **kwargs)\u001b[0m\n\u001b[1;32m    748\u001b[0m \u001b[38;5;129m@_docstring\u001b[39m\u001b[38;5;241m.\u001b[39minterpd\n\u001b[1;32m    749\u001b[0m \u001b[38;5;28;01mdef\u001b[39;00m\u001b[38;5;250m \u001b[39m\u001b[38;5;21m__init__\u001b[39m(\u001b[38;5;28mself\u001b[39m, xy, width, height, \u001b[38;5;241m*\u001b[39m,\n\u001b[1;32m    750\u001b[0m              angle\u001b[38;5;241m=\u001b[39m\u001b[38;5;241m0.0\u001b[39m, rotation_point\u001b[38;5;241m=\u001b[39m\u001b[38;5;124m'\u001b[39m\u001b[38;5;124mxy\u001b[39m\u001b[38;5;124m'\u001b[39m, \u001b[38;5;241m*\u001b[39m\u001b[38;5;241m*\u001b[39mkwargs):\n\u001b[1;32m    751\u001b[0m \u001b[38;5;250m    \u001b[39m\u001b[38;5;124;03m\"\"\"\u001b[39;00m\n\u001b[1;32m    752\u001b[0m \u001b[38;5;124;03m    Parameters\u001b[39;00m\n\u001b[1;32m    753\u001b[0m \u001b[38;5;124;03m    ----------\u001b[39;00m\n\u001b[0;32m   (...)\u001b[0m\n\u001b[1;32m    770\u001b[0m \u001b[38;5;124;03m        %(Patch:kwdoc)s\u001b[39;00m\n\u001b[1;32m    771\u001b[0m \u001b[38;5;124;03m    \"\"\"\u001b[39;00m\n\u001b[0;32m--> 772\u001b[0m     \u001b[38;5;28msuper\u001b[39m()\u001b[38;5;241m.\u001b[39m\u001b[38;5;21m__init__\u001b[39m(\u001b[38;5;241m*\u001b[39m\u001b[38;5;241m*\u001b[39mkwargs)\n\u001b[1;32m    773\u001b[0m     \u001b[38;5;28mself\u001b[39m\u001b[38;5;241m.\u001b[39m_x0 \u001b[38;5;241m=\u001b[39m xy[\u001b[38;5;241m0\u001b[39m]\n\u001b[1;32m    774\u001b[0m     \u001b[38;5;28mself\u001b[39m\u001b[38;5;241m.\u001b[39m_y0 \u001b[38;5;241m=\u001b[39m xy[\u001b[38;5;241m1\u001b[39m]\n",
      "File \u001b[0;32m/opt/anaconda3/lib/python3.12/site-packages/matplotlib/patches.py:99\u001b[0m, in \u001b[0;36mPatch.__init__\u001b[0;34m(self, edgecolor, facecolor, color, linewidth, linestyle, antialiased, hatch, fill, capstyle, joinstyle, **kwargs)\u001b[0m\n\u001b[1;32m     96\u001b[0m \u001b[38;5;28mself\u001b[39m\u001b[38;5;241m.\u001b[39mset_joinstyle(joinstyle)\n\u001b[1;32m     98\u001b[0m \u001b[38;5;28;01mif\u001b[39;00m \u001b[38;5;28mlen\u001b[39m(kwargs):\n\u001b[0;32m---> 99\u001b[0m     \u001b[38;5;28mself\u001b[39m\u001b[38;5;241m.\u001b[39m_internal_update(kwargs)\n",
      "File \u001b[0;32m/opt/anaconda3/lib/python3.12/site-packages/matplotlib/artist.py:1233\u001b[0m, in \u001b[0;36mArtist._internal_update\u001b[0;34m(self, kwargs)\u001b[0m\n\u001b[1;32m   1226\u001b[0m \u001b[38;5;28;01mdef\u001b[39;00m\u001b[38;5;250m \u001b[39m\u001b[38;5;21m_internal_update\u001b[39m(\u001b[38;5;28mself\u001b[39m, kwargs):\n\u001b[1;32m   1227\u001b[0m \u001b[38;5;250m    \u001b[39m\u001b[38;5;124;03m\"\"\"\u001b[39;00m\n\u001b[1;32m   1228\u001b[0m \u001b[38;5;124;03m    Update artist properties without prenormalizing them, but generating\u001b[39;00m\n\u001b[1;32m   1229\u001b[0m \u001b[38;5;124;03m    errors as if calling `set`.\u001b[39;00m\n\u001b[1;32m   1230\u001b[0m \n\u001b[1;32m   1231\u001b[0m \u001b[38;5;124;03m    The lack of prenormalization is to maintain backcompatibility.\u001b[39;00m\n\u001b[1;32m   1232\u001b[0m \u001b[38;5;124;03m    \"\"\"\u001b[39;00m\n\u001b[0;32m-> 1233\u001b[0m     \u001b[38;5;28;01mreturn\u001b[39;00m \u001b[38;5;28mself\u001b[39m\u001b[38;5;241m.\u001b[39m_update_props(\n\u001b[1;32m   1234\u001b[0m         kwargs, \u001b[38;5;124m\"\u001b[39m\u001b[38;5;132;01m{cls.__name__}\u001b[39;00m\u001b[38;5;124m.set() got an unexpected keyword argument \u001b[39m\u001b[38;5;124m\"\u001b[39m\n\u001b[1;32m   1235\u001b[0m         \u001b[38;5;124m\"\u001b[39m\u001b[38;5;132;01m{prop_name!r}\u001b[39;00m\u001b[38;5;124m\"\u001b[39m)\n",
      "File \u001b[0;32m/opt/anaconda3/lib/python3.12/site-packages/matplotlib/artist.py:1209\u001b[0m, in \u001b[0;36mArtist._update_props\u001b[0;34m(self, props, errfmt)\u001b[0m\n\u001b[1;32m   1205\u001b[0m             \u001b[38;5;28;01mif\u001b[39;00m \u001b[38;5;129;01mnot\u001b[39;00m \u001b[38;5;28mcallable\u001b[39m(func):\n\u001b[1;32m   1206\u001b[0m                 \u001b[38;5;28;01mraise\u001b[39;00m \u001b[38;5;167;01mAttributeError\u001b[39;00m(\n\u001b[1;32m   1207\u001b[0m                     errfmt\u001b[38;5;241m.\u001b[39mformat(\u001b[38;5;28mcls\u001b[39m\u001b[38;5;241m=\u001b[39m\u001b[38;5;28mtype\u001b[39m(\u001b[38;5;28mself\u001b[39m), prop_name\u001b[38;5;241m=\u001b[39mk),\n\u001b[1;32m   1208\u001b[0m                     name\u001b[38;5;241m=\u001b[39mk)\n\u001b[0;32m-> 1209\u001b[0m             ret\u001b[38;5;241m.\u001b[39mappend(func(v))\n\u001b[1;32m   1210\u001b[0m \u001b[38;5;28;01mif\u001b[39;00m ret:\n\u001b[1;32m   1211\u001b[0m     \u001b[38;5;28mself\u001b[39m\u001b[38;5;241m.\u001b[39mpchanged()\n",
      "File \u001b[0;32m/opt/anaconda3/lib/python3.12/site-packages/matplotlib/artist.py:1114\u001b[0m, in \u001b[0;36mArtist.set_label\u001b[0;34m(self, s)\u001b[0m\n\u001b[1;32m   1105\u001b[0m \u001b[38;5;28;01mdef\u001b[39;00m\u001b[38;5;250m \u001b[39m\u001b[38;5;21mset_label\u001b[39m(\u001b[38;5;28mself\u001b[39m, s):\n\u001b[1;32m   1106\u001b[0m \u001b[38;5;250m    \u001b[39m\u001b[38;5;124;03m\"\"\"\u001b[39;00m\n\u001b[1;32m   1107\u001b[0m \u001b[38;5;124;03m    Set a label that will be displayed in the legend.\u001b[39;00m\n\u001b[1;32m   1108\u001b[0m \n\u001b[0;32m   (...)\u001b[0m\n\u001b[1;32m   1112\u001b[0m \u001b[38;5;124;03m        *s* will be converted to a string by calling `str`.\u001b[39;00m\n\u001b[1;32m   1113\u001b[0m \u001b[38;5;124;03m    \"\"\"\u001b[39;00m\n\u001b[0;32m-> 1114\u001b[0m     label \u001b[38;5;241m=\u001b[39m \u001b[38;5;28mstr\u001b[39m(s) \u001b[38;5;28;01mif\u001b[39;00m s \u001b[38;5;129;01mis\u001b[39;00m \u001b[38;5;129;01mnot\u001b[39;00m \u001b[38;5;28;01mNone\u001b[39;00m \u001b[38;5;28;01melse\u001b[39;00m \u001b[38;5;28;01mNone\u001b[39;00m\n\u001b[1;32m   1115\u001b[0m     \u001b[38;5;28;01mif\u001b[39;00m label \u001b[38;5;241m!=\u001b[39m \u001b[38;5;28mself\u001b[39m\u001b[38;5;241m.\u001b[39m_label:\n\u001b[1;32m   1116\u001b[0m         \u001b[38;5;28mself\u001b[39m\u001b[38;5;241m.\u001b[39m_label \u001b[38;5;241m=\u001b[39m label\n",
      "\u001b[0;31mKeyboardInterrupt\u001b[0m: "
     ]
    },
    {
     "data": {
      "image/png": "[encoded data removed]",
      "text/plain": [
       "<Figure size 720x460 with 1 Axes>"
      ]
     },
     "metadata": {},
     "output_type": "display_data"
    }
   ],
   "source": [
    "for v,u in [(\"trip_distance\",\"miles\"),\n",
    "            (\"trip_duration\",\"min\"),\n",
    "            (\"average_speed\",\"mph\"),\n",
    "            (\"fare_amount\",\"USD\"),\n",
    "            (\"tip_amount\",\"USD\"),\n",
    "            (\"total_amount\",\"USD\")]:\n",
    "    hist_kde(df[v], title=v, unit=u, bw_adjust_list=(0.7, 1.0, 1.8))\n",
    "    box_violin(df[v], title=v)\n",
    "    plot_ecdf(df[v], title=v, unit=u)"
   ]
  }
 ],
 "metadata": {
  "kernelspec": {
   "display_name": "base",
   "language": "python",
   "name": "python3"
  },
  "language_info": {
   "codemirror_mode": {
    "name": "ipython",
    "version": 3
   },
   "file_extension": ".py",
   "mimetype": "text/x-python",
   "name": "python",
   "nbconvert_exporter": "python",
   "pygments_lexer": "ipython3",
   "version": "3.12.2"
  }
 },
 "nbformat": 4,
 "nbformat_minor": 5
}
