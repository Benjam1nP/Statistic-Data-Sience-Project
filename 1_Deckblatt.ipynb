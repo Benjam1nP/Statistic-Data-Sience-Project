{
 "cells": [
  {
   "cell_type": "markdown",
   "id": "5c4aa07c",
   "metadata": {},
   "source": [
    "# Statistik Projekt \n",
    "## Analyse aller yellow Taxi-Fahrten im Staat NewYork von 2023\n",
    "Benjamin Pfister, Lukas Kapferer, Arthur Van Petegem"
   ]
  },
  {
   "cell_type": "markdown",
   "id": "db008ca2",
   "metadata": {},
   "source": [
    "## Aufgabenverteilung\n",
    "\n",
    "Benjamin Pfister: \n",
    "\n",
    "Lukas Kapferer:\n",
    "\n",
    "Arthur Van Petegem: "
   ]
  }
 ],
 "metadata": {
  "language_info": {
   "name": "python"
  }
 },
 "nbformat": 4,
 "nbformat_minor": 5
}
