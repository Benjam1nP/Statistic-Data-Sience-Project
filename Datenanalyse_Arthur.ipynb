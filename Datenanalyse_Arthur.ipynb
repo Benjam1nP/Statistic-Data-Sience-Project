{
 "cells": [
  {
   "cell_type": "code",
   "execution_count": 1,
   "id": "bae38e2a",
   "metadata": {},
   "outputs": [],
   "source": [
    "import pandas as pd\n",
    "import numpy as np\n",
    "import matplotlib.pyplot as plt"
   ]
  },
  {
   "cell_type": "code",
   "execution_count": 5,
   "id": "77133541",
   "metadata": {},
   "outputs": [
    {
     "name": "stdout",
     "output_type": "stream",
     "text": [
      "   VendorID    tpep_pickup_datetime   tpep_dropoff_datetime  passenger_count  \\\n",
      "0         2  01/01/2023 12:32:10 AM  01/01/2023 12:40:36 AM                1   \n",
      "1         2  01/01/2023 12:55:08 AM  01/01/2023 01:01:27 AM                1   \n",
      "2         2  01/01/2023 12:25:04 AM  01/01/2023 12:37:49 AM                1   \n",
      "3         1  01/01/2023 12:03:48 AM  01/01/2023 12:13:25 AM                0   \n",
      "4         2  01/01/2023 12:10:29 AM  01/01/2023 12:21:19 AM                1   \n",
      "\n",
      "   trip_distance  RatecodeID store_and_fwd_flag  PULocationID  DOLocationID  \\\n",
      "0           0.97           1                  N           161           141   \n",
      "1           1.10           1                  N            43           237   \n",
      "2           2.51           1                  N            48           238   \n",
      "3           1.90           1                  N           138             7   \n",
      "4           1.43           1                  N           107            79   \n",
      "\n",
      "   payment_type  fare_amount  extra  mta_tax  tip_amount  tolls_amount  \\\n",
      "0             2          9.3   1.00      0.5        0.00           0.0   \n",
      "1             1          7.9   1.00      0.5        4.00           0.0   \n",
      "2             1         14.9   1.00      0.5       15.00           0.0   \n",
      "3             1         12.1   7.25      0.5        0.00           0.0   \n",
      "4             1         11.4   1.00      0.5        3.28           0.0   \n",
      "\n",
      "   improvement_surcharge  total_amount  congestion_surcharge  airport_fee  \n",
      "0                    1.0         14.30                   2.5         0.00  \n",
      "1                    1.0         16.90                   2.5         0.00  \n",
      "2                    1.0         34.90                   2.5         0.00  \n",
      "3                    1.0         20.85                   0.0         1.25  \n",
      "4                    1.0         19.68                   2.5         0.00  \n",
      "            VendorID  passenger_count  trip_distance     RatecodeID  \\\n",
      "count  255050.000000    255050.000000  255050.000000  255050.000000   \n",
      "mean        1.737322         1.452656       4.404979       1.592707   \n",
      "std         0.440090         0.966037     125.062920       6.868445   \n",
      "min         1.000000         0.000000       0.000000       1.000000   \n",
      "25%         1.000000         1.000000       1.110000       1.000000   \n",
      "50%         2.000000         1.000000       1.980000       1.000000   \n",
      "75%         2.000000         2.000000       4.300000       1.000000   \n",
      "max         2.000000         6.000000   62359.520000      99.000000   \n",
      "\n",
      "        PULocationID   DOLocationID   payment_type    fare_amount  \\\n",
      "count  255050.000000  255050.000000  255050.000000  255050.000000   \n",
      "mean      163.351994     161.208324       1.280024      20.846189   \n",
      "std        64.071258      71.447009       0.540894      20.838365   \n",
      "min         1.000000       1.000000       1.000000    -346.000000   \n",
      "25%       132.000000     112.000000       1.000000       8.600000   \n",
      "50%       161.000000     162.000000       1.000000      13.500000   \n",
      "75%       233.000000     234.000000       1.000000      24.000000   \n",
      "max       265.000000     265.000000       4.000000     496.500000   \n",
      "\n",
      "               extra        mta_tax     tip_amount   tolls_amount  \\\n",
      "count  255050.000000  255050.000000  255050.000000  255050.000000   \n",
      "mean        1.379638       0.484562       3.466153       0.721992   \n",
      "std         1.820087       0.152557       4.382635       2.373323   \n",
      "min        -7.500000      -0.500000     -33.930000     -30.300000   \n",
      "25%         0.000000       0.500000       0.000000       0.000000   \n",
      "50%         1.000000       0.500000       2.520000       0.000000   \n",
      "75%         2.500000       0.500000       4.290000       0.000000   \n",
      "max        11.250000      53.160000     211.500000      61.150000   \n",
      "\n",
      "       improvement_surcharge   total_amount  congestion_surcharge  \\\n",
      "count          255050.000000  255050.000000         255050.000000   \n",
      "mean                0.978217      29.607098              2.186983   \n",
      "std                 0.199796      25.730813              0.880474   \n",
      "min                -1.000000    -351.000000             -2.500000   \n",
      "25%                 1.000000      15.120000              2.500000   \n",
      "50%                 1.000000      20.200000              2.500000   \n",
      "75%                 1.000000      31.920000              2.500000   \n",
      "max                 1.000000     505.800000              2.500000   \n",
      "\n",
      "         airport_fee  \n",
      "count  255050.000000  \n",
      "mean        0.158753  \n",
      "std         0.422517  \n",
      "min        -1.250000  \n",
      "25%         0.000000  \n",
      "50%         0.000000  \n",
      "75%         0.000000  \n",
      "max         1.250000  \n"
     ]
    }
   ],
   "source": [
    "df = pd.read_csv(\"part_aa\")\n",
    "print(df.head())\n",
    "print(df.describe())"
   ]
  },
  {
   "cell_type": "code",
   "execution_count": null,
   "id": "2d927d13",
   "metadata": {},
   "outputs": [],
   "source": []
  }
 ],
 "metadata": {
  "kernelspec": {
   "display_name": ".venv",
   "language": "python",
   "name": "python3"
  },
  "language_info": {
   "codemirror_mode": {
    "name": "ipython",
    "version": 3
   },
   "file_extension": ".py",
   "mimetype": "text/x-python",
   "name": "python",
   "nbconvert_exporter": "python",
   "pygments_lexer": "ipython3",
   "version": "3.12.3"
  }
 },
 "nbformat": 4,
 "nbformat_minor": 5
}
