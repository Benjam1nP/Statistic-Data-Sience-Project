{
 "cells": [
  {
   "cell_type": "code",
   "execution_count": 2,
   "id": "bae38e2a",
   "metadata": {},
   "outputs": [],
   "source": [
    "import pandas as pd\n",
    "import numpy as np\n",
    "import matplotlib.pyplot as plt\n",
    "import seaborn as sns"
   ]
  },
  {
   "cell_type": "markdown",
   "id": "4029d527",
   "metadata": {},
   "source": [
    "### Infos zum Datensatz"
   ]
  },
  {
   "cell_type": "code",
   "execution_count": 3,
   "id": "77133541",
   "metadata": {},
   "outputs": [
    {
     "name": "stdout",
     "output_type": "stream",
     "text": [
      "<class 'pandas.core.frame.DataFrame'>\n",
      "RangeIndex: 1000000 entries, 0 to 999999\n",
      "Data columns (total 19 columns):\n",
      " #   Column                 Non-Null Count    Dtype  \n",
      "---  ------                 --------------    -----  \n",
      " 0   VendorID               1000000 non-null  int64  \n",
      " 1   tpep_pickup_datetime   1000000 non-null  object \n",
      " 2   tpep_dropoff_datetime  1000000 non-null  object \n",
      " 3   passenger_count        1000000 non-null  int64  \n",
      " 4   trip_distance          1000000 non-null  float64\n",
      " 5   RatecodeID             1000000 non-null  int64  \n",
      " 6   store_and_fwd_flag     1000000 non-null  object \n",
      " 7   PULocationID           1000000 non-null  int64  \n",
      " 8   DOLocationID           1000000 non-null  int64  \n",
      " 9   payment_type           1000000 non-null  int64  \n",
      " 10  fare_amount            1000000 non-null  float64\n",
      " 11  extra                  1000000 non-null  float64\n",
      " 12  mta_tax                1000000 non-null  float64\n",
      " 13  tip_amount             1000000 non-null  float64\n",
      " 14  tolls_amount           1000000 non-null  float64\n",
      " 15  improvement_surcharge  1000000 non-null  float64\n",
      " 16  total_amount           1000000 non-null  float64\n",
      " 17  congestion_surcharge   1000000 non-null  float64\n",
      " 18  airport_fee            1000000 non-null  float64\n",
      "dtypes: float64(10), int64(6), object(3)\n",
      "memory usage: 145.0+ MB\n",
      "None\n"
     ]
    }
   ],
   "source": [
    "chunksize = 1_000_000\n",
    "reader = pd.read_csv(\"data/2023_Yellow_Taxi_Trip_Data.csv\", chunksize=chunksize)\n",
    "\n",
    "# Den ersten Chunk holen\n",
    "first_chunk = next(reader)\n",
    "\n",
    "# Info anzeigen\n",
    "print(first_chunk.info())\n"
   ]
  },
  {
   "cell_type": "markdown",
   "id": "60db4211",
   "metadata": {},
   "source": [
    "Wie wir sehen können ist der Datensatz recht gross und braucht viel Speicher, weshalb es sich nur in chunks bearbeiten lässt. \n",
    "\n",
    "Im Folgenden wird es vorallem darum gehen den Datensatz zu optimieren und wichtige Kennzahlen zu berechnen."
   ]
  },
  {
   "cell_type": "markdown",
   "id": "80a90e35",
   "metadata": {},
   "source": [
    "### Beschreiben des Datensatzes"
   ]
  },
  {
   "cell_type": "code",
   "execution_count": 4,
   "id": "7911dad2",
   "metadata": {},
   "outputs": [
    {
     "name": "stdout",
     "output_type": "stream",
     "text": [
      "             VendorID  passenger_count   trip_distance      RatecodeID  \\\n",
      "count  1000000.000000   1000000.000000  1000000.000000  1000000.000000   \n",
      "mean         1.732321         1.364828        3.372839        1.435825   \n",
      "std          0.442750         0.896679       24.952718        6.013780   \n",
      "min          1.000000         0.000000        0.000000        1.000000   \n",
      "25%          1.000000         1.000000        1.060000        1.000000   \n",
      "50%          2.000000         1.000000        1.760000        1.000000   \n",
      "75%          2.000000         1.000000        3.250000        1.000000   \n",
      "max          2.000000         9.000000     9683.760000       99.000000   \n",
      "\n",
      "         PULocationID    DOLocationID    payment_type     fare_amount  \\\n",
      "count  1000000.000000  1000000.000000  1000000.000000  1000000.000000   \n",
      "mean       166.420072      164.483686        1.215696       18.193923   \n",
      "std         64.097900       69.799382        0.496670       17.590646   \n",
      "min          1.000000        1.000000        1.000000     -600.000000   \n",
      "25%        132.000000      114.000000        1.000000        8.600000   \n",
      "50%        162.000000      162.000000        1.000000       12.800000   \n",
      "75%        234.000000      234.000000        1.000000       19.800000   \n",
      "max        265.000000      265.000000        4.000000      600.000000   \n",
      "\n",
      "                extra         mta_tax      tip_amount    tolls_amount  \\\n",
      "count  1000000.000000  1000000.000000  1000000.000000  1000000.000000   \n",
      "mean         1.546080        0.488131        3.397447        0.522641   \n",
      "std          1.782976        0.099536        3.830573        2.036974   \n",
      "min         -7.500000       -0.500000      -96.220000      -30.000000   \n",
      "25%          0.000000        0.500000        1.000000        0.000000   \n",
      "50%          1.000000        0.500000        2.790000        0.000000   \n",
      "75%          2.500000        0.500000        4.200000        0.000000   \n",
      "max         11.250000        4.000000      222.210000      196.990000   \n",
      "\n",
      "       improvement_surcharge    total_amount  congestion_surcharge  \\\n",
      "count          1000000.00000  1000000.000000        1000000.000000   \n",
      "mean                 0.98207       26.879859              2.286892   \n",
      "std                  0.18403       22.062870              0.754498   \n",
      "min                 -1.00000     -603.500000             -2.500000   \n",
      "25%                  1.00000       15.400000              2.500000   \n",
      "50%                  1.00000       20.100000              2.500000   \n",
      "75%                  1.00000       28.500000              2.500000   \n",
      "max                  1.00000      607.550000              2.500000   \n",
      "\n",
      "          airport_fee  \n",
      "count  1000000.000000  \n",
      "mean         0.103332  \n",
      "std          0.349554  \n",
      "min         -1.250000  \n",
      "25%          0.000000  \n",
      "50%          0.000000  \n",
      "75%          0.000000  \n",
      "max          1.250000  \n"
     ]
    }
   ],
   "source": [
    "second_chunk = next(reader)\n",
    "\n",
    "print(second_chunk.describe())"
   ]
  },
  {
   "cell_type": "code",
   "execution_count": 5,
   "id": "ca840a1e",
   "metadata": {},
   "outputs": [
    {
     "name": "stdout",
     "output_type": "stream",
     "text": [
      "Der Datensatz enthält folgende Informationen\n",
      "Spaltennamen:\n",
      " ['VendorID', 'tpep_pickup_datetime', 'tpep_dropoff_datetime', 'passenger_count', 'trip_distance', 'RatecodeID', 'store_and_fwd_flag', 'PULocationID', 'DOLocationID', 'payment_type', 'fare_amount', 'extra', 'mta_tax', 'tip_amount', 'tolls_amount', 'improvement_surcharge', 'total_amount', 'congestion_surcharge', 'airport_fee']\n",
      "\n",
      "Anzahl Header:  19\n",
      "\n",
      "Die Datei hat ca. 38,310,226 Zeilen.\n"
     ]
    }
   ],
   "source": [
    "df_header = pd.read_csv(\"data/2023_Yellow_Taxi_Trip_Data.csv\", nrows=0)\n",
    "print(\"Der Datensatz enthält folgende Informationen\")\n",
    "original_header = df_header.columns.tolist()\n",
    "print(\"Spaltennamen:\\n\", original_header)\n",
    "print(\"\\nAnzahl Header: \", len(original_header))\n",
    "\n",
    "with open(\"data/2023_Yellow_Taxi_Trip_Data.csv\", \"r\", encoding=\"utf-8\") as f:\n",
    "    total_lines = sum(1 for _ in f) - 1\n",
    "\n",
    "print(f\"\\nDie Datei hat ca. {total_lines:,} Zeilen.\")"
   ]
  },
  {
   "cell_type": "markdown",
   "id": "86f362da",
   "metadata": {},
   "source": [
    "Um die Anzahl Zeilen zu erhalten konnte ich keine pandas einsetzen, da jedesmal das kernel kaputt gegangen ist. \n",
    "Unser Datensatz hat also um die 38 Millionen Zeilen/Taxifahrten im Jahr 2023 und zu einer Fahrt sind viel Daten vorhanden, wie zum Beispiel Preis, Uhrzeit und Distanz."
   ]
  },
  {
   "cell_type": "markdown",
   "id": "46e334d7",
   "metadata": {},
   "source": [
    "### Mögliche Datenverbesserung\n",
    "\n",
    "Dank der Info- und Describe-Funktionen können wir uns nun den gesamten Datensatz ansehen und erkennen, welche Spalten für unsere Analyse nicht nützlich sind. Diese Spalten werden gelöscht, um Arbeitsspeicher (RAM) zu sparen und die Datengröße zu reduzieren.\n",
    "\n",
    "- VendorID: Hat nur die Werte 1, 2 oder 6. Da wir diese Information nicht mit etwas Nützlichem verknüpfen können, kann die Spalte\n",
    "            gelöscht werden.\n",
    "\n",
    "- RatecodeID: Gleiches wie zuvor – die Werte sind meist 1 oder 99, in den meisten Fällen jedoch 1. Daher ist sie nicht hilfreich.\n",
    "\n",
    "- store_and_fwd_flag: Immer derselbe Wert und die Bedeutung ist unklar. Diese Spalte kann ebenfalls entfernt werden.\n",
    "\n",
    "- mta_tax: Hat immer denselben Wert (0.5) – es gibt zwar einige fehlerhafte Einträge, aber grundsätzlich keine Variation, daher kann\n",
    "           sie gelöscht werden."
   ]
  },
  {
   "cell_type": "markdown",
   "id": "58591511",
   "metadata": {},
   "source": [
    "### Überprüfen der Spaltenlöschung"
   ]
  },
  {
   "cell_type": "code",
   "execution_count": 6,
   "id": "2d927d13",
   "metadata": {},
   "outputs": [
    {
     "name": "stdout",
     "output_type": "stream",
     "text": [
      "Datensatz nach Löschung:\n",
      "\n",
      "Datensatz hat jetzt 15 Spalten\n"
     ]
    }
   ],
   "source": [
    "print(\"Datensatz nach Löschung:\\n\")\n",
    "df = pd.read_csv(\"data/Taxi_Data_improved.csv\", nrows=0)\n",
    "print(f\"Datensatz hat jetzt {df.shape[1]} Spalten\")"
   ]
  },
  {
   "cell_type": "markdown",
   "id": "377a6534",
   "metadata": {},
   "source": [
    "### Erstellen eines repräsentativen Datensatzes\n",
    "\n",
    "Unser Datensatz hat aktuell mehr als 38 Millionen Taxifahrten, es ist unmöglich (auch mit pandas) diesen in einem Stück einzulesen und zu analysieren, desshalb haben wir uns entschieden einen kleineren repräsentativen Datensatz zu erstellen. Zuerst wird das original chunkweise geshuffelt und anschliessen aus jedem gemischten chunk eine Prozentsatz an Daten random herausgenommen und in einem neuen Datensatz gespeichert. Der neue Datensatz sollte 1 Millionen Taxifahrten beinhalten."
   ]
  },
  {
   "cell_type": "code",
   "execution_count": 8,
   "id": "71d65350",
   "metadata": {},
   "outputs": [
    {
     "name": "stdout",
     "output_type": "stream",
     "text": [
      "Daten des originalen Datensatzes: 38,310,226\n",
      "Daten des neuen Datensatzes: 999,997\n"
     ]
    }
   ],
   "source": [
    "print(f\"Daten des originalen Datensatzes: {total_lines:,}\")\n",
    "\n",
    "with open(\"data/Taxi_sample_1M.csv\", \"r\", encoding=\"utf-8\") as f:\n",
    "    new_total_lines = sum(1 for _ in f) - 1\n",
    "print(f\"Daten des neuen Datensatzes: {new_total_lines:,}\")"
   ]
  },
  {
   "cell_type": "markdown",
   "id": "43cdb707",
   "metadata": {},
   "source": [
    "### Wechsel zu Datetime\n",
    "\n",
    "Aktuell liegt die Abfahrts und Ankunfts Zeit in der US-Datums form vor. Um die Zeiten für Rechnungen benutzen zu können, müssen wir die Zeitangaben in Datetime vorleigen haben. deshalb wurde das pythonscript change_to_datetime erstellt welches diese Angaben umwandelt"
   ]
  },
  {
   "cell_type": "code",
   "execution_count": 9,
   "id": "44e55024",
   "metadata": {},
   "outputs": [
    {
     "name": "stdout",
     "output_type": "stream",
     "text": [
      "Zeitangabe vor Änderung:\n",
      "\n",
      "     tpep_pickup_datetime   tpep_dropoff_datetime\n",
      "0  01/01/2023 12:32:10 AM  01/01/2023 12:40:36 AM\n",
      "1  01/01/2023 12:55:08 AM  01/01/2023 01:01:27 AM\n",
      "2  01/01/2023 12:25:04 AM  01/01/2023 12:37:49 AM\n",
      "\n",
      "Zeitangabe nach Änderung:\n",
      "\n",
      "  tpep_pickup_datetime tpep_dropoff_datetime\n",
      "0  2023-02-06 18:31:28   2023-02-06 18:41:28\n",
      "1  2023-01-13 12:22:41   2023-01-13 12:54:42\n",
      "2  2023-01-24 12:53:51   2023-01-24 13:06:09\n"
     ]
    }
   ],
   "source": [
    "example_1 = pd.read_csv(\"data/2023_Yellow_Taxi_Trip_Data.csv\", nrows=3)\n",
    "print(\"Zeitangabe vor Änderung:\\n\")\n",
    "print(example_1.iloc[:, 1:3])\n",
    "\n",
    "example_2 = pd.read_csv(\"data/Taxi_final_1M.csv\", nrows=3)\n",
    "print(\"\\nZeitangabe nach Änderung:\\n\")\n",
    "print(example_2.iloc[:, :2])"
   ]
  },
  {
   "cell_type": "markdown",
   "id": "8130026a",
   "metadata": {},
   "source": [
    "### Generieren von neuen Spalten\n",
    "\n",
    "Neben dem Wechsel zu Datetime, wird mit dem gleichen Pythonscript die Taxifahrtdauer und die durchschnitts Geschwindigkeit berechnet und hinten als neue Spalten eingefühgt. Zudem wird die Spalte trip_distance in Kilometer umgerechnet."
   ]
  },
  {
   "cell_type": "code",
   "execution_count": 18,
   "id": "22946129",
   "metadata": {},
   "outputs": [
    {
     "name": "stdout",
     "output_type": "stream",
     "text": [
      "\n",
      "Neu eingefühgte Spalten:\n",
      "\n",
      "   trip_duration  average_speed\n",
      "0           10.0           27.4\n",
      "1           32.0            0.0\n",
      "2           12.3           18.1\n",
      "3            4.4           24.9\n",
      "4           11.4           24.9\n",
      "5            5.7           21.1\n"
     ]
    }
   ],
   "source": [
    "example_3 = pd.read_csv(\"data/Taxi_final_1M.csv\", nrows=6)\n",
    "print(\"\\nNeu eingefühgte Spalten:\\n\")\n",
    "print(example_3.iloc[:,15:])"
   ]
  },
  {
   "cell_type": "markdown",
   "id": "72c3d019",
   "metadata": {},
   "source": [
    "### Wichtige Kennzahlen für Fahrzeit, Distanz und Gesamtpreis\n",
    "\n",
    "(Mittelwert, Median, Modus, Quartile)"
   ]
  },
  {
   "cell_type": "code",
   "execution_count": 22,
   "id": "0563b08e",
   "metadata": {},
   "outputs": [
    {
     "name": "stdout",
     "output_type": "stream",
     "text": [
      "Werte für Fahrzeit:\n",
      "\n",
      "count    999997.000000\n",
      "mean         17.447879\n",
      "std          40.936206\n",
      "min         -52.200000\n",
      "25%           7.600000\n",
      "50%          12.600000\n",
      "75%          20.700000\n",
      "max        3713.800000\n",
      "Name: trip_duration, dtype: float64\n",
      "Median: 12.6\n",
      "Modus: 0    7.0\n",
      "Name: trip_duration, dtype: float64\n",
      "Werte für Distanz:\n",
      "\n",
      "count    999997.000000\n",
      "mean          6.379764\n",
      "std         218.072658\n",
      "min           0.000000\n",
      "25%           1.700000\n",
      "50%           2.900000\n",
      "75%           5.500000\n",
      "max      148560.100000\n",
      "Name: trip_distance, dtype: float64\n",
      "Median: 2.9\n",
      "Modus: 0    1.4\n",
      "Name: trip_distance, dtype: float64\n",
      "Werte für Gesamtpreis:\n",
      "\n",
      "count    999997.000000\n",
      "mean         28.386058\n",
      "std          23.687311\n",
      "min        -901.000000\n",
      "25%          15.950000\n",
      "50%          21.000000\n",
      "75%          30.720000\n",
      "max        2451.000000\n",
      "Name: total_amount, dtype: float64\n",
      "Median: 21.0\n",
      "Modus: 0    16.8\n",
      "Name: total_amount, dtype: float64\n"
     ]
    }
   ],
   "source": [
    "data = pd.read_csv(\"data/Taxi_final_1M.csv\")\n",
    "\n",
    "print(\"Werte für Fahrzeit:\\n\")\n",
    "print(data['trip_duration'].describe())\n",
    "print(f\"Median: {data['trip_duration'].median()}\")\n",
    "print(f\"Modus: {data['trip_duration'].mode()}\")\n",
    "\n",
    "print(\"Werte für Distanz:\\n\")\n",
    "print(data['trip_distance'].describe())\n",
    "print(f\"Median: {data['trip_distance'].median()}\")\n",
    "print(f\"Modus: {data['trip_distance'].mode()}\")\n",
    "\n",
    "print(\"Werte für Gesamtpreis:\\n\")\n",
    "print(data['total_amount'].describe())\n",
    "print(f\"Median: {data['total_amount'].median()}\")\n",
    "print(f\"Modus: {data['total_amount'].mode()}\")"
   ]
  }
 ],
 "metadata": {
  "kernelspec": {
   "display_name": "project",
   "language": "python",
   "name": "python3"
  },
  "language_info": {
   "codemirror_mode": {
    "name": "ipython",
    "version": 3
   },
   "file_extension": ".py",
   "mimetype": "text/x-python",
   "name": "python",
   "nbconvert_exporter": "python",
   "pygments_lexer": "ipython3",
   "version": "3.12.3"
  }
 },
 "nbformat": 4,
 "nbformat_minor": 5
}
